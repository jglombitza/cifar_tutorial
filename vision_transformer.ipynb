{
  "cells": [
    {
      "cell_type": "markdown",
      "metadata": {
        "id": "view-in-github",
        "colab_type": "text"
      },
      "source": [
        "<a href=\"https://colab.research.google.com/github/jglombitza/cifar_tutorial/blob/main/vision_transformer.ipynb\" target=\"_parent\"><img src=\"https://colab.research.google.com/assets/colab-badge.svg\" alt=\"Open In Colab\"/></a>"
      ]
    },
    {
      "cell_type": "markdown",
      "id": "454dab96",
      "metadata": {
        "id": "454dab96"
      },
      "source": [
        "# Visition transformer example for the CIFAR-10 classification task.\n",
        "Classify image samples of the CIFAR-10 dataset using a transformer network\n",
        "\n",
        "Learn more about vision transformers (ViTs) at https://arxiv.org/abs/2010.11929\n",
        "Learn more about the attention mechanism, the basic building block of each transformer, at https://arxiv.org/abs/1706.03762\n",
        "\n",
        "## CIFAR-10 Dataset\n",
        "The CIFAR-10 and CIFAR-100 are labeled subsets of the 80 million tiny images dataset.\n",
        "They were collected by Alex Krizhevsky, Vinod Nair, and Geoffrey Hinton.\n",
        "see http://www.cs.toronto.edu/~kriz/cifar.html\n",
        "\n",
        "Contains 6 files, each with 10000 shuffled images of 10 labeled classes.\n",
        "\n",
        "The images are of size 32x32 pixels with 3 color channels (RGB).\n",
        "The intensity in each channels is encoded as unsigned 8-bit integers 0...255.\n",
        "\n",
        "\n",
        "Code partly adapted from https://keras.io/examples/vision/image_classification_with_vision_transformer/\n"
      ]
    },
    {
      "cell_type": "code",
      "execution_count": 1,
      "id": "0e41b5a9",
      "metadata": {
        "id": "0e41b5a9"
      },
      "outputs": [],
      "source": [
        "import numpy as np\n",
        "import tensorflow as tf\n",
        "import matplotlib.pyplot as plt\n",
        "from tensorflow import keras\n",
        "\n",
        "layers = tf.keras.layers"
      ]
    },
    {
      "cell_type": "markdown",
      "id": "4200a5f4",
      "metadata": {
        "id": "4200a5f4"
      },
      "source": [
        "## Load and preprocess CIFAR-10 data"
      ]
    },
    {
      "cell_type": "code",
      "execution_count": 2,
      "id": "41a1c492",
      "metadata": {
        "id": "41a1c492",
        "outputId": "7ac221ae-6472-4818-9b1f-7233aea97a9c",
        "colab": {
          "base_uri": "https://localhost:8080/"
        }
      },
      "outputs": [
        {
          "output_type": "stream",
          "name": "stdout",
          "text": [
            "images, shape =  (50000, 32, 32, 3)\n",
            "labels, shape =  (50000, 1)\n"
          ]
        }
      ],
      "source": [
        "(x_train, y_train), (x_test, y_test) = tf.keras.datasets.cifar10.load_data()\n",
        "\n",
        "print(\"images, shape = \", x_train.shape)\n",
        "print(\"labels, shape = \", y_train.shape)\n",
        "input_shape = (32, 32, 3)\n"
      ]
    },
    {
      "cell_type": "code",
      "source": [
        "class Patches(layers.Layer):\n",
        "    def __init__(self, patch_size):\n",
        "        super(Patches, self).__init__()\n",
        "        self.patch_size = patch_size\n",
        "\n",
        "    def call(self, images):\n",
        "        batch_size = tf.shape(images)[0]\n",
        "        patches = tf.image.extract_patches(\n",
        "            images=images,\n",
        "            sizes=[1, self.patch_size, self.patch_size, 1],\n",
        "            strides=[1, self.patch_size, self.patch_size, 1],\n",
        "            rates=[1, 1, 1, 1],\n",
        "            padding=\"VALID\",\n",
        "        )\n",
        "        patch_dims = patches.shape[-1]\n",
        "        patches = tf.reshape(patches, [batch_size, -1, patch_dims])\n",
        "        return patches\n",
        "\n",
        "\n",
        "def plot_patches(image, image_size, patch_size, outfile):\n",
        "    plt.figure(figsize=(4, 4))\n",
        "    plt.imshow(image.astype(\"uint8\"))\n",
        "    plt.axis(\"off\")\n",
        "    plt.savefig(outfile)\n",
        "\n",
        "    patches = Patches(patch_size)(image[tf.newaxis, ...])\n",
        "    print(patches.shape)\n",
        "    print(f\"Image size: {image_size} X {image_size}\")\n",
        "    print(f\"Patch size: {patch_size} X {patch_size}\")\n",
        "    print(f\"Patches per image: {patches.shape[1]}\")\n",
        "    print(f\"Elements per patch: {patches.shape[-1]}\")\n",
        "\n",
        "    n = int(np.sqrt(patches.shape[1]))\n",
        "    plt.figure(figsize=(4, 4))\n",
        "    for i, patch in enumerate(patches[0]):\n",
        "        ax = plt.subplot(n, n, i + 1)\n",
        "        patch_img = tf.reshape(patch, (patch_size, patch_size, 3))\n",
        "        plt.imshow(patch_img.numpy().astype(\"uint8\"))\n",
        "        plt.axis(\"off\")\n",
        "    plt.show()"
      ],
      "metadata": {
        "id": "xeRNEFCQr9il"
      },
      "id": "xeRNEFCQr9il",
      "execution_count": 3,
      "outputs": []
    },
    {
      "cell_type": "markdown",
      "source": [
        "Let's plot the data (that is divided into patches)"
      ],
      "metadata": {
        "id": "q3HKblQbsN7_"
      },
      "id": "q3HKblQbsN7_"
    },
    {
      "cell_type": "code",
      "source": [
        "image_size = input_shape[0]\n",
        "patch_size = 4  # Size of the patches\n",
        "num_patches = (image_size // patch_size) ** 2\n",
        "\n",
        "image = x_train[np.random.choice(range(x_train.shape[0]))]\n",
        "plot_patches(image, image_size, patch_size, \"image.png\")\n"
      ],
      "metadata": {
        "id": "mM9hhGvtsC1W",
        "outputId": "1bda7f31-0717-4b3b-97cb-0d367c827f2e",
        "colab": {
          "base_uri": "https://localhost:8080/",
          "height": 760
        }
      },
      "id": "mM9hhGvtsC1W",
      "execution_count": 4,
      "outputs": [
        {
          "output_type": "stream",
          "name": "stdout",
          "text": [
            "(1, 64, 48)\n",
            "Image size: 32 X 32\n",
            "Patch size: 4 X 4\n",
            "Patches per image: 64\n",
            "Elements per patch: 48\n"
          ]
        },
        {
          "output_type": "display_data",
          "data": {
            "text/plain": [
              "<Figure size 400x400 with 1 Axes>"
            ],
            "image/png": "[encoded data removed]"
          },
          "metadata": {}
        },
        {
          "output_type": "display_data",
          "data": {
            "text/plain": [
              "<Figure size 400x400 with 64 Axes>"
            ],
            "image/png": "[encoded data removed]"
          },
          "metadata": {}
        }
      ]
    },
    {
      "cell_type": "markdown",
      "id": "4aa7cdfc",
      "metadata": {
        "id": "4aa7cdfc"
      },
      "source": [
        "### Pre-process data\n",
        "normalize each pixel and color-channel separately across all images\n",
        "take 2000 images for validation from test data"
      ]
    },
    {
      "cell_type": "code",
      "execution_count": 5,
      "id": "9ed0685a",
      "metadata": {
        "id": "9ed0685a"
      },
      "outputs": [],
      "source": [
        "def normalize(images):\n",
        "    mean = np.mean(images, axis=0)[np.newaxis]  # shape = (1, 32, 32, 3)\n",
        "    sigma = np.std(images, axis=0)[np.newaxis]  # shape = (1, 32, 32, 3)\n",
        "    images_normalized = (images - mean) / sigma\n",
        "    return images_normalized\n",
        "\n",
        "# take 2000 images for validation from test data\n",
        "x_train_norm = normalize(x_train)\n",
        "x_test_norm = normalize(x_test)"
      ]
    },
    {
      "cell_type": "code",
      "source": [
        "y_train_onehot = tf.keras.utils.to_categorical(y_train, 10)\n",
        "y_test_onehot = tf.keras.utils.to_categorical(y_test, 10)"
      ],
      "metadata": {
        "id": "UncPyJ0EuqCT"
      },
      "id": "UncPyJ0EuqCT",
      "execution_count": 6,
      "outputs": []
    },
    {
      "cell_type": "markdown",
      "id": "8d47a4fb",
      "metadata": {
        "id": "8d47a4fb"
      },
      "source": [
        "## Define model\n",
        "Add new transformer neural network here!\n",
        "\n",
        "First start with definining the PatchEncoder --> Positional encoding."
      ]
    },
    {
      "cell_type": "code",
      "source": [
        "\n",
        "class PatchEncoder(layers.Layer):\n",
        "    def __init__(self, num_patches, projection_dim):\n",
        "        super(PatchEncoder, self).__init__()\n",
        "        self.num_patches = num_patches\n",
        "        self.projection = layers.Dense(units=projection_dim)\n",
        "        self.position_embedding = layers.Embedding(\n",
        "            input_dim=num_patches, output_dim=projection_dim\n",
        "        )\n",
        "\n",
        "    def call(self, patch):\n",
        "        positions = tf.range(start=0, limit=self.num_patches, delta=1)\n",
        "        encoded = self.projection(patch) + self.position_embedding(positions)\n",
        "        return encoded\n"
      ],
      "metadata": {
        "id": "t7cewj8oqTe8"
      },
      "id": "t7cewj8oqTe8",
      "execution_count": 7,
      "outputs": []
    },
    {
      "cell_type": "markdown",
      "source": [
        "Then we define the feed-forward MLP that is used in each transformer block"
      ],
      "metadata": {
        "id": "YoeviUD6qjL7"
      },
      "id": "YoeviUD6qjL7"
    },
    {
      "cell_type": "code",
      "source": [
        "def mlp(x, hidden_units, dropout_rate, transformer_units):\n",
        "    for units in hidden_units:\n",
        "        x = layers.Dense(units, activation=tf.nn.gelu)(x)\n",
        "        x = layers.Dropout(dropout_rate)(x)\n",
        "    x = layers.Dense(transformer_units, activation=tf.nn.gelu)(x)\n",
        "    return x"
      ],
      "metadata": {
        "id": "aK8WL7ACqd_P"
      },
      "id": "aK8WL7ACqd_P",
      "execution_count": 8,
      "outputs": []
    },
    {
      "cell_type": "markdown",
      "source": [
        "Finally we start setting up the transformer..."
      ],
      "metadata": {
        "id": "MoWaymXlqhjc"
      },
      "id": "MoWaymXlqhjc"
    },
    {
      "cell_type": "code",
      "source": [
        "# Small values to enable fast training -> will not achieve good performance\n",
        "\n",
        "projection_dim = 32  # Size of transformer layers (d)\n",
        "transformer_layers = 4  # number of transformer blocks\n",
        "num_heads = 4  # remember that d has to be dividable by num_heads (h)\n",
        "mlp_head_units = [128]  # Size of MLP hidden layer"
      ],
      "metadata": {
        "id": "d9yBlpsrslFJ"
      },
      "id": "d9yBlpsrslFJ",
      "execution_count": 9,
      "outputs": []
    },
    {
      "cell_type": "code",
      "execution_count": null,
      "id": "6b773442",
      "metadata": {
        "id": "6b773442"
      },
      "outputs": [],
      "source": [
        "# Build model\n",
        "inputs = layers.Input(shape=input_shape)\n",
        "patches = Patches(patch_size)(inputs)\n",
        "# Encode patches.\n",
        "encoded_patches = PatchEncoder(num_patches, projection_dim)(patches)\n",
        "\n",
        "# Construct multiple layers of the Transformer block.\n",
        "for _ in range(transformer_layers):\n",
        "\n",
        "    x1 = layers.LayerNormalization(epsilon=1e-6)(encoded_patches)  # Layernorm 1\n",
        "    # TASK: perform attention\n",
        "    # make use of \"num_heads\" and \"projection_dim\"\n",
        "    # perfrom self attention using the MultiHeadAttention layer.\n",
        "    attention_output = ....\n",
        "\n",
        "    x2 = layers.Add()([attention_output, encoded_patches])  # Residual connection\n",
        "    x3 = layers.LayerNormalization(epsilon=1e-6)(x2)  # Layernorm 2\n",
        "\n",
        "    # TASK: add MLP model\n",
        "    x3 = ....\n",
        "    encoded_patches = layers.Add()([x3, x2])\n",
        "\n",
        "\n",
        "representation = layers.LayerNormalization(epsilon=1e-6)(encoded_patches)\n",
        "representation = layers.Flatten()(representation)\n",
        "representation = layers.Dropout(0.3)(representation)\n",
        "\n",
        "# Create output of the model\n",
        "# Add a Dense, Dropout, and a final classification layer (remember num_classes = 10 in CIFAR-10)\n",
        "output = ...\n",
        "\n",
        "# Build the Keras model.\n",
        "model = keras.Model(inputs=inputs, outputs=output, name=\"vit\")"
      ]
    },
    {
      "cell_type": "markdown",
      "source": [
        "## Prepare model for training"
      ],
      "metadata": {
        "id": "_O1tEOPV6LlT"
      },
      "id": "_O1tEOPV6LlT"
    },
    {
      "cell_type": "code",
      "source": [
        "# setup the optimizer\n",
        "learning_rate = 0.001\n",
        "optimizer = keras.optimizers.Adam(learning_rate=learning_rate)"
      ],
      "metadata": {
        "id": "Shmp8Shmsz-y"
      },
      "id": "Shmp8Shmsz-y",
      "execution_count": null,
      "outputs": []
    },
    {
      "cell_type": "code",
      "execution_count": null,
      "id": "fdf5e8d8",
      "metadata": {
        "id": "fdf5e8d8"
      },
      "outputs": [],
      "source": [
        "# compile the model\n",
        "model.compile(\n",
        "    optimizer=optimizer,\n",
        "    loss=keras.losses.CategoricalCrossentropy(),\n",
        "    metrics=[keras.metrics.CategoricalAccuracy(name=\"accuracy\"),\n",
        "             keras.metrics.TopKCategoricalAccuracy(3, name=\"top-3-accuracy\")])\n",
        "\n",
        "model.summary()"
      ]
    },
    {
      "cell_type": "markdown",
      "source": [
        "# Perform training\n",
        "\n",
        "Transformer need lots of data.\n",
        "Thus, expect the CNN to perform better than transformers that are not pre-trained."
      ],
      "metadata": {
        "id": "BJP-PCjt6FAf"
      },
      "id": "BJP-PCjt6FAf"
    },
    {
      "cell_type": "code",
      "execution_count": null,
      "id": "3f43014c",
      "metadata": {
        "id": "3f43014c"
      },
      "outputs": [],
      "source": [
        "batch_size = 32\n",
        "num_epochs = 20\n",
        "\n",
        "history = model.fit(\n",
        "    x=x_train_norm,\n",
        "    y=y_train_onehot,\n",
        "    batch_size=batch_size,\n",
        "    epochs=num_epochs,\n",
        "    validation_split=0.1)\n"
      ]
    },
    {
      "cell_type": "markdown",
      "id": "487042ed",
      "metadata": {
        "id": "487042ed"
      },
      "source": [
        "## Plot training curves"
      ]
    },
    {
      "cell_type": "markdown",
      "id": "2be85637",
      "metadata": {
        "id": "2be85637"
      },
      "source": [
        "### Loss"
      ]
    },
    {
      "cell_type": "code",
      "execution_count": null,
      "id": "5d41da33",
      "metadata": {
        "id": "5d41da33"
      },
      "outputs": [],
      "source": [
        "fig, ax = plt.subplots(1)\n",
        "nb_epochs = np.arange(len(history.history[\"loss\"]))\n",
        "ax.plot(nb_epochs, history.history[\"loss\"], label=\"train\")\n",
        "ax.plot(nb_epochs, history.history[\"val_loss\"], label=\"validation\")\n",
        "ax.legend()\n",
        "ax.set(xlabel=\"epoch\", ylabel=\"loss\")"
      ]
    },
    {
      "cell_type": "markdown",
      "id": "f5d4cb4d",
      "metadata": {
        "id": "f5d4cb4d"
      },
      "source": [
        "### Accuracy"
      ]
    },
    {
      "cell_type": "code",
      "execution_count": null,
      "id": "a443b137",
      "metadata": {
        "id": "a443b137"
      },
      "outputs": [],
      "source": [
        "fig, ax = plt.subplots(1)\n",
        "nb_epochs = np.arange(len(history.history[\"accuracy\"]))\n",
        "ax.plot(nb_epochs, history.history[\"accuracy\"], label=\"training\")\n",
        "ax.plot(nb_epochs, history.history[\"val_accuracy\"], label=\"validation\")\n",
        "ax.legend()\n",
        "ax.set(xlabel=\"epoch\", ylabel=\"accuracy\")"
      ]
    },
    {
      "cell_type": "markdown",
      "id": "e8214047",
      "metadata": {
        "id": "e8214047"
      },
      "source": [
        "## Plot classifications using the test set\n",
        "calculate predictions for test set and convert back to class labels (0-9)\n"
      ]
    },
    {
      "cell_type": "code",
      "execution_count": null,
      "id": "d083a911",
      "metadata": {
        "id": "d083a911"
      },
      "outputs": [],
      "source": [
        "def plot_prediction(X, Y, Y_predict, fname=False):\n",
        "    labels = np.array([\"airplane\", \"automobile\", \"bird\", \"cat\", \"deer\", \"dog\", \"frog\", \"horse\", \"ship\", \"truck\"])\n",
        "\n",
        "    \"\"\"\n",
        "    Plot image X along with predicted probabilities Y_predict.\n",
        "    X: CIFAR image, shape = (32, 32, 3)\n",
        "    Y: CIFAR label, one-hot encoded, shape = (10)\n",
        "    Y_predict: predicted probabilities, shape = (10)\n",
        "    \"\"\"\n",
        "    fig, (ax1, ax2) = plt.subplots(1, 2, figsize=(8, 4))\n",
        "\n",
        "    # plot image\n",
        "    ax1.imshow(X.astype(\"uint8\"), origin=\"upper\")\n",
        "    ax1.set(xticks=[], yticks=[])\n",
        "\n",
        "    # plot probabilities\n",
        "    ax2.barh(np.arange(10), Y_predict, align=\"center\")\n",
        "    ax2.set(xlim=(0, 1), xlabel=\"Score\", yticks=[])\n",
        "    for i in range(10):\n",
        "        c = \"red\" if (i == np.argmax(Y)) else \"black\"\n",
        "        ax2.text(0.05, i, labels[i].capitalize(), ha=\"left\", va=\"center\", color=c)\n"
      ]
    },
    {
      "cell_type": "code",
      "execution_count": null,
      "id": "22b25faa",
      "metadata": {
        "id": "22b25faa"
      },
      "outputs": [],
      "source": [
        "y_predict = model.predict(x_test_norm, batch_size=128)\n",
        "\n",
        "y_predict_cl = np.argmax(y_predict, axis=1)\n",
        "y_test_cl = np.argmax(y_test_onehot, axis=1)"
      ]
    },
    {
      "cell_type": "code",
      "execution_count": null,
      "id": "a8438a56",
      "metadata": {
        "id": "a8438a56"
      },
      "outputs": [],
      "source": [
        "m = y_predict_cl == y_test_cl\n",
        "i0 = np.arange(10000)[~m]  # misclassified images\n",
        "i1 = np.arange(10000)[m]  # correctly classified images\n"
      ]
    },
    {
      "cell_type": "markdown",
      "id": "791a57f7",
      "metadata": {
        "id": "791a57f7"
      },
      "source": [
        "#### Plot first 5 false classifications"
      ]
    },
    {
      "cell_type": "code",
      "execution_count": null,
      "id": "4989cb3d",
      "metadata": {
        "scrolled": false,
        "id": "4989cb3d"
      },
      "outputs": [],
      "source": [
        "fname = \"false_%i_{}.png\".format(model.name)\n",
        "for i in i0[0:5]:\n",
        "    plot_prediction(x_test[i], y_test_onehot[i], y_predict[i], fname=fname % i)\n",
        "\n"
      ]
    },
    {
      "cell_type": "markdown",
      "id": "7b5f21e9",
      "metadata": {
        "id": "7b5f21e9"
      },
      "source": [
        "#### Plot first 5 correct classifications"
      ]
    },
    {
      "cell_type": "code",
      "execution_count": null,
      "id": "d053bce5",
      "metadata": {
        "scrolled": false,
        "id": "d053bce5"
      },
      "outputs": [],
      "source": [
        "fname = \"correct_%i_{}.png\".format(model.name)\n",
        "for i in i1[0:5]:\n",
        "    plot_prediction(x_test[i], y_test_onehot[i], y_predict[i], fname=fname % i)"
      ]
    },
    {
      "cell_type": "code",
      "source": [],
      "metadata": {
        "id": "vgguJ9Jh2b0d"
      },
      "id": "vgguJ9Jh2b0d",
      "execution_count": null,
      "outputs": []
    }
  ],
  "metadata": {
    "kernelspec": {
      "display_name": "Python 3",
      "name": "python3"
    },
    "language_info": {
      "codemirror_mode": {
        "name": "ipython",
        "version": 3
      },
      "file_extension": ".py",
      "mimetype": "text/x-python",
      "name": "python",
      "nbconvert_exporter": "python",
      "pygments_lexer": "ipython3",
      "version": "3.8.10"
    },
    "colab": {
      "provenance": [],
      "gpuType": "T4",
      "include_colab_link": true
    },
    "accelerator": "GPU"
  },
  "nbformat": 4,
  "nbformat_minor": 5
}