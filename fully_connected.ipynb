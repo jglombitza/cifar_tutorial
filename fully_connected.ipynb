{
 "cells": [
  {
   "cell_type": "markdown",
   "id": "454dab96",
   "metadata": {},
   "source": [
    "# Fully connected network example for the CIFAR-10 classification task.\n",
    "Classify image samples of the CIFAR-10 dataset using a fully-connected network\n",
    "\n",
    "## CIFAR-10 Dataset\n",
    "The CIFAR-10 and CIFAR-100 are labeled subsets of the 80 million tiny images dataset.\n",
    "They were collected by Alex Krizhevsky, Vinod Nair, and Geoffrey Hinton.\n",
    "see http://www.cs.toronto.edu/~kriz/cifar.html\n",
    "\n",
    "Contains 6 files, each with 10000 shuffled images of 10 labeled classes.\n",
    "\n",
    "The images are of size 32x32 pixels with 3 color channels (RGB).\n",
    "The intensity in each channels is encoded as unsigned 8-bit integers 0...255."
   ]
  },
  {
   "cell_type": "code",
   "execution_count": 1,
   "id": "0e41b5a9",
   "metadata": {},
   "outputs": [],
   "source": [
    "import numpy as np\n",
    "import tensorflow as tf\n",
    "import matplotlib.pyplot as plt\n",
    "layers = tf.keras.layers"
   ]
  },
  {
   "cell_type": "markdown",
   "id": "4200a5f4",
   "metadata": {},
   "source": [
    "## Load and preprocess CIFAR-10 data"
   ]
  },
  {
   "cell_type": "code",
   "execution_count": 2,
   "id": "41a1c492",
   "metadata": {},
   "outputs": [
    {
     "name": "stdout",
     "output_type": "stream",
     "text": [
      "images, shape =  (50000, 32, 32, 3)\n",
      "labels, shape =  (50000, 1)\n"
     ]
    }
   ],
   "source": [
    "(x_train, y_train), (x_test, y_test) = tf.keras.datasets.cifar10.load_data()\n",
    "\n",
    "print(\"images, shape = \", x_train.shape)\n",
    "print(\"labels, shape = \", y_train.shape)"
   ]
  },
  {
   "cell_type": "markdown",
   "id": "4aa7cdfc",
   "metadata": {},
   "source": [
    "### Pre-process data\n",
    "normalize each pixel and color-channel separately across all images\n",
    "take 2000 images for validation from test data"
   ]
  },
  {
   "cell_type": "code",
   "execution_count": 3,
   "id": "9ed0685a",
   "metadata": {},
   "outputs": [],
   "source": [
    "def normalize(images):\n",
    "    mean = np.mean(images, axis=0)[np.newaxis]  # shape = (1, 32, 32, 3)\n",
    "    sigma = np.std(images, axis=0)[np.newaxis]  # shape = (1, 32, 32, 3)\n",
    "    images_normalized = (images - mean) / sigma\n",
    "    return images_normalized\n",
    "\n",
    "# take 2000 images for validation from test data\n",
    "x_train_norm = normalize(x_train)\n",
    "x_test_norm = normalize(x_test)"
   ]
  },
  {
   "cell_type": "markdown",
   "id": "67077703",
   "metadata": {},
   "source": [
    "#### One-hot encodings\n",
    "convert labels (\"0\"-\"9\") to one-hot encodings, \"0\" = (1, 0, ... 0) and so on"
   ]
  },
  {
   "cell_type": "code",
   "execution_count": 4,
   "id": "8c97cf43",
   "metadata": {},
   "outputs": [],
   "source": [
    "y_train_onehot = tf.keras.utils.to_categorical(y_train, 10)\n",
    "y_test_onehot = tf.keras.utils.to_categorical(y_test, 10)[:8000]\n",
    "y_valid_onehot = tf.keras.utils.to_categorical(y_test, 10)[8000:]"
   ]
  },
  {
   "cell_type": "markdown",
   "id": "8d47a4fb",
   "metadata": {},
   "source": [
    "## Define model"
   ]
  },
  {
   "cell_type": "code",
   "execution_count": 5,
   "id": "6b773442",
   "metadata": {},
   "outputs": [
    {
     "name": "stdout",
     "output_type": "stream",
     "text": [
      "Model: \"nn\"\n",
      "_________________________________________________________________\n",
      " Layer (type)                Output Shape              Param #   \n",
      "=================================================================\n",
      " flatten (Flatten)           (None, 3072)              0         \n",
      "                                                                 \n",
      " dense (Dense)               (None, 10)                30730     \n",
      "                                                                 \n",
      "=================================================================\n",
      "Total params: 30,730\n",
      "Trainable params: 30,730\n",
      "Non-trainable params: 0\n",
      "_________________________________________________________________\n",
      "None\n"
     ]
    },
    {
     "name": "stderr",
     "output_type": "stream",
     "text": [
      "2022-09-12 16:57:24.985519: E tensorflow/stream_executor/cuda/cuda_driver.cc:271] failed call to cuInit: CUDA_ERROR_NO_DEVICE: no CUDA-capable device is detected\n",
      "2022-09-12 16:57:24.985564: I tensorflow/stream_executor/cuda/cuda_diagnostics.cc:156] kernel driver does not appear to be running on this host (zen): /proc/driver/nvidia/version does not exist\n",
      "2022-09-12 16:57:24.986171: I tensorflow/core/platform/cpu_feature_guard.cc:151] This TensorFlow binary is optimized with oneAPI Deep Neural Network Library (oneDNN) to use the following CPU instructions in performance-critical operations:  AVX2 FMA\n",
      "To enable them in other operations, rebuild TensorFlow with the appropriate compiler flags.\n"
     ]
    }
   ],
   "source": [
    "model = tf.keras.models.Sequential(\n",
    "    [\n",
    "        layers.Flatten(input_shape=(32, 32, 3)),  # (32,32,3) --> (3072)\n",
    "        layers.Dense(10, activation=\"softmax\"),\n",
    "    ],\n",
    "    name=\"nn\",\n",
    ")\n",
    "\n",
    "print(model.summary()) # prints summary of the network architecture"
   ]
  },
  {
   "cell_type": "code",
   "execution_count": 6,
   "id": "fdf5e8d8",
   "metadata": {},
   "outputs": [],
   "source": [
    "model.compile(\n",
    "    loss=\"categorical_crossentropy\",\n",
    "    optimizer=tf.keras.optimizers.Adam(1e-3),\n",
    "    metrics=[\"accuracy\"],\n",
    ")"
   ]
  },
  {
   "cell_type": "code",
   "execution_count": 7,
   "id": "3f43014c",
   "metadata": {},
   "outputs": [
    {
     "name": "stdout",
     "output_type": "stream",
     "text": [
      "Epoch 1/20\n"
     ]
    },
    {
     "name": "stderr",
     "output_type": "stream",
     "text": [
      "2022-09-12 16:57:25.398469: W tensorflow/core/framework/cpu_allocator_impl.cc:82] Allocation of 552960000 exceeds 10% of free system memory.\n"
     ]
    },
    {
     "name": "stdout",
     "output_type": "stream",
     "text": [
      "1407/1407 [==============================] - 2s 1ms/step - loss: 2.1263 - accuracy: 0.3234 - val_loss: 2.1038 - val_accuracy: 0.3352\n",
      "Epoch 2/20\n",
      "1407/1407 [==============================] - 2s 1ms/step - loss: 2.0508 - accuracy: 0.3491 - val_loss: 2.0869 - val_accuracy: 0.3492\n",
      "Epoch 3/20\n",
      "1407/1407 [==============================] - 2s 1ms/step - loss: 2.0126 - accuracy: 0.3579 - val_loss: 2.0786 - val_accuracy: 0.3368\n",
      "Epoch 4/20\n",
      "1407/1407 [==============================] - 2s 1ms/step - loss: 1.9993 - accuracy: 0.3645 - val_loss: 2.1315 - val_accuracy: 0.3310\n",
      "Epoch 5/20\n",
      "1407/1407 [==============================] - 2s 1ms/step - loss: 1.9927 - accuracy: 0.3667 - val_loss: 2.2232 - val_accuracy: 0.3248\n",
      "Epoch 6/20\n",
      "1407/1407 [==============================] - 2s 1ms/step - loss: 1.9906 - accuracy: 0.3677 - val_loss: 2.1397 - val_accuracy: 0.3484\n",
      "Epoch 7/20\n",
      "1407/1407 [==============================] - 2s 1ms/step - loss: 1.9826 - accuracy: 0.3697 - val_loss: 2.1371 - val_accuracy: 0.3218\n",
      "Epoch 8/20\n",
      "1407/1407 [==============================] - 2s 1ms/step - loss: 1.9802 - accuracy: 0.3706 - val_loss: 2.1024 - val_accuracy: 0.3444\n",
      "Epoch 9/20\n",
      "1407/1407 [==============================] - 2s 1ms/step - loss: 1.9673 - accuracy: 0.3737 - val_loss: 2.1592 - val_accuracy: 0.3442\n",
      "Epoch 10/20\n",
      "1407/1407 [==============================] - 2s 1ms/step - loss: 1.9650 - accuracy: 0.3755 - val_loss: 2.1371 - val_accuracy: 0.3560\n",
      "Epoch 11/20\n",
      "1407/1407 [==============================] - 2s 1ms/step - loss: 1.9603 - accuracy: 0.3786 - val_loss: 2.0890 - val_accuracy: 0.3376\n",
      "Epoch 12/20\n",
      "1407/1407 [==============================] - 2s 1ms/step - loss: 1.9478 - accuracy: 0.3811 - val_loss: 2.2264 - val_accuracy: 0.3244\n",
      "Epoch 13/20\n",
      "1407/1407 [==============================] - 2s 1ms/step - loss: 1.9538 - accuracy: 0.3807 - val_loss: 2.2521 - val_accuracy: 0.3188\n",
      "Epoch 14/20\n",
      "1407/1407 [==============================] - 2s 1ms/step - loss: 1.9555 - accuracy: 0.3782 - val_loss: 2.1848 - val_accuracy: 0.3364\n",
      "Epoch 15/20\n",
      "1407/1407 [==============================] - 2s 1ms/step - loss: 1.9514 - accuracy: 0.3782 - val_loss: 2.1234 - val_accuracy: 0.3452\n",
      "Epoch 16/20\n",
      "1407/1407 [==============================] - 2s 1ms/step - loss: 1.9307 - accuracy: 0.3819 - val_loss: 2.2515 - val_accuracy: 0.3260\n",
      "Epoch 17/20\n",
      "1407/1407 [==============================] - 2s 1ms/step - loss: 1.9441 - accuracy: 0.3813 - val_loss: 2.1702 - val_accuracy: 0.3360\n",
      "Epoch 18/20\n",
      "1407/1407 [==============================] - 2s 1ms/step - loss: 1.9243 - accuracy: 0.3882 - val_loss: 2.1517 - val_accuracy: 0.3514\n",
      "Epoch 19/20\n",
      "1407/1407 [==============================] - 2s 1ms/step - loss: 1.9336 - accuracy: 0.3850 - val_loss: 2.1179 - val_accuracy: 0.3388\n",
      "Epoch 20/20\n",
      "1407/1407 [==============================] - 1s 1ms/step - loss: 1.9463 - accuracy: 0.3815 - val_loss: 2.1999 - val_accuracy: 0.3288\n"
     ]
    }
   ],
   "source": [
    "history = model.fit(\n",
    "    x_train_norm,\n",
    "    y_train_onehot,\n",
    "    batch_size=32,\n",
    "    epochs=20,\n",
    "    verbose=1,\n",
    "    validation_split=0.1,\n",
    ")"
   ]
  },
  {
   "cell_type": "markdown",
   "id": "487042ed",
   "metadata": {},
   "source": [
    "## Plot training curves"
   ]
  },
  {
   "cell_type": "markdown",
   "id": "2be85637",
   "metadata": {},
   "source": [
    "### Loss"
   ]
  },
  {
   "cell_type": "code",
   "execution_count": 8,
   "id": "5d41da33",
   "metadata": {},
   "outputs": [
    {
     "data": {
      "text/plain": [
       "[Text(0, 0.5, 'loss'), Text(0.5, 0, 'epoch')]"
      ]
     },
     "execution_count": 8,
     "metadata": {},
     "output_type": "execute_result"
    },
    {
     "data": {
      "image/png": "[encoded data removed]",
      "text/plain": [
       "<Figure size 432x288 with 1 Axes>"
      ]
     },
     "metadata": {
      "needs_background": "light"
     },
     "output_type": "display_data"
    }
   ],
   "source": [
    "fig, ax = plt.subplots(1)\n",
    "nb_epochs = np.arange(len(history.history[\"loss\"]))\n",
    "ax.plot(nb_epochs, history.history[\"loss\"], label=\"train\")\n",
    "ax.plot(nb_epochs, history.history[\"val_loss\"], label=\"validation\")\n",
    "ax.legend()\n",
    "ax.set(xlabel=\"epoch\", ylabel=\"loss\")"
   ]
  },
  {
   "cell_type": "markdown",
   "id": "f5d4cb4d",
   "metadata": {},
   "source": [
    "### Accuracy"
   ]
  },
  {
   "cell_type": "code",
   "execution_count": 9,
   "id": "a443b137",
   "metadata": {},
   "outputs": [
    {
     "data": {
      "text/plain": [
       "[Text(0, 0.5, 'accuracy'), Text(0.5, 0, 'epoch')]"
      ]
     },
     "execution_count": 9,
     "metadata": {},
     "output_type": "execute_result"
    },
    {
     "data": {
      "image/png": "[encoded data removed]",
      "text/plain": [
       "<Figure size 432x288 with 1 Axes>"
      ]
     },
     "metadata": {
      "needs_background": "light"
     },
     "output_type": "display_data"
    }
   ],
   "source": [
    "fig, ax = plt.subplots(1)\n",
    "nb_epochs = np.arange(len(history.history[\"accuracy\"]))\n",
    "ax.plot(nb_epochs, history.history[\"accuracy\"], label=\"training\")\n",
    "ax.plot(nb_epochs, history.history[\"val_accuracy\"], label=\"validation\")\n",
    "ax.legend()\n",
    "ax.set(xlabel=\"epoch\", ylabel=\"accuracy\")"
   ]
  },
  {
   "cell_type": "markdown",
   "id": "e8214047",
   "metadata": {},
   "source": [
    "## Plot classifications using the test set\n",
    "calculate predictions for test set and convert back to class labels (0-9)\n"
   ]
  },
  {
   "cell_type": "code",
   "execution_count": 10,
   "id": "d083a911",
   "metadata": {},
   "outputs": [],
   "source": [
    "def plot_prediction(X, Y, Y_predict, fname=False):\n",
    "    labels = np.array([\"airplane\", \"automobile\", \"bird\", \"cat\", \"deer\", \"dog\", \"frog\", \"horse\", \"ship\", \"truck\"])\n",
    "    \n",
    "    \"\"\"\n",
    "    Plot image X along with predicted probabilities Y_predict.\n",
    "    X: CIFAR image, shape = (32, 32, 3)\n",
    "    Y: CIFAR label, one-hot encoded, shape = (10)\n",
    "    Y_predict: predicted probabilities, shape = (10)\n",
    "    \"\"\"\n",
    "    fig, (ax1, ax2) = plt.subplots(1, 2, figsize=(8, 4))\n",
    "\n",
    "    # plot image\n",
    "    ax1.imshow(X.astype(\"uint8\"), origin=\"upper\")\n",
    "    ax1.set(xticks=[], yticks=[])\n",
    "\n",
    "    # plot probabilities\n",
    "    ax2.barh(np.arange(10), Y_predict, align=\"center\")\n",
    "    ax2.set(xlim=(0, 1), xlabel=\"Score\", yticks=[])\n",
    "    for i in range(10):\n",
    "        c = \"red\" if (i == np.argmax(Y)) else \"black\"\n",
    "        ax2.text(0.05, i, labels[i].capitalize(), ha=\"left\", va=\"center\", color=c)\n"
   ]
  },
  {
   "cell_type": "code",
   "execution_count": 11,
   "id": "22b25faa",
   "metadata": {},
   "outputs": [],
   "source": [
    "y_predict = model.predict(x_test_norm, batch_size=128)\n",
    "\n",
    "y_predict_cl = np.argmax(y_predict, axis=1)\n",
    "y_test_cl = np.argmax(y_test_onehot, axis=1)"
   ]
  },
  {
   "cell_type": "code",
   "execution_count": 12,
   "id": "a8438a56",
   "metadata": {},
   "outputs": [
    {
     "name": "stderr",
     "output_type": "stream",
     "text": [
      "/tmp/ipykernel_13194/1689623731.py:1: DeprecationWarning: elementwise comparison failed; this will raise an error in the future.\n",
      "  m = y_predict_cl == y_test_cl\n"
     ]
    }
   ],
   "source": [
    "m = y_predict_cl == y_test_cl\n",
    "i0 = np.arange(8000)[~m]  # misclassified images\n",
    "i1 = np.arange(8000)[m]  # correctly classified images\n"
   ]
  },
  {
   "cell_type": "markdown",
   "id": "791a57f7",
   "metadata": {},
   "source": [
    "#### Plot first 10 false classifications"
   ]
  },
  {
   "cell_type": "code",
   "execution_count": 13,
   "id": "4989cb3d",
   "metadata": {
    "scrolled": false
   },
   "outputs": [
    {
     "ename": "IndexError",
     "evalue": "invalid index to scalar variable.",
     "output_type": "error",
     "traceback": [
      "\u001b[0;31m---------------------------------------------------------------------------\u001b[0m",
      "\u001b[0;31mIndexError\u001b[0m                                Traceback (most recent call last)",
      "\u001b[0;32m/tmp/ipykernel_13194/1121628452.py\u001b[0m in \u001b[0;36m<module>\u001b[0;34m\u001b[0m\n\u001b[1;32m      1\u001b[0m \u001b[0mfname\u001b[0m \u001b[0;34m=\u001b[0m \u001b[0;34m\"false_%i_{}.png\"\u001b[0m\u001b[0;34m.\u001b[0m\u001b[0mformat\u001b[0m\u001b[0;34m(\u001b[0m\u001b[0mmodel\u001b[0m\u001b[0;34m.\u001b[0m\u001b[0mname\u001b[0m\u001b[0;34m)\u001b[0m\u001b[0;34m\u001b[0m\u001b[0;34m\u001b[0m\u001b[0m\n\u001b[0;32m----> 2\u001b[0;31m \u001b[0;32mfor\u001b[0m \u001b[0mi\u001b[0m \u001b[0;32min\u001b[0m \u001b[0mi0\u001b[0m\u001b[0;34m[\u001b[0m\u001b[0;36m0\u001b[0m\u001b[0;34m:\u001b[0m\u001b[0;36m10\u001b[0m\u001b[0;34m]\u001b[0m\u001b[0;34m:\u001b[0m\u001b[0;34m\u001b[0m\u001b[0;34m\u001b[0m\u001b[0m\n\u001b[0m\u001b[1;32m      3\u001b[0m     \u001b[0mplot_prediction\u001b[0m\u001b[0;34m(\u001b[0m\u001b[0mx_test\u001b[0m\u001b[0;34m[\u001b[0m\u001b[0mi\u001b[0m\u001b[0;34m]\u001b[0m\u001b[0;34m,\u001b[0m \u001b[0my_test_onehot\u001b[0m\u001b[0;34m[\u001b[0m\u001b[0mi\u001b[0m\u001b[0;34m]\u001b[0m\u001b[0;34m,\u001b[0m \u001b[0my_predict\u001b[0m\u001b[0;34m[\u001b[0m\u001b[0mi\u001b[0m\u001b[0;34m]\u001b[0m\u001b[0;34m,\u001b[0m \u001b[0mfname\u001b[0m\u001b[0;34m=\u001b[0m\u001b[0mfname\u001b[0m \u001b[0;34m%\u001b[0m \u001b[0mi\u001b[0m\u001b[0;34m)\u001b[0m\u001b[0;34m\u001b[0m\u001b[0;34m\u001b[0m\u001b[0m\n\u001b[1;32m      4\u001b[0m \u001b[0;34m\u001b[0m\u001b[0m\n",
      "\u001b[0;31mIndexError\u001b[0m: invalid index to scalar variable."
     ]
    }
   ],
   "source": [
    "fname = \"false_%i_{}.png\".format(model.name)\n",
    "for i in i0[0:10]:\n",
    "    plot_prediction(x_test[i], y_test_onehot[i], y_predict[i], fname=fname % i)\n",
    "\n"
   ]
  },
  {
   "cell_type": "markdown",
   "id": "7b5f21e9",
   "metadata": {},
   "source": [
    "#### Plot first 10 correct classifications"
   ]
  },
  {
   "cell_type": "code",
   "execution_count": null,
   "id": "d053bce5",
   "metadata": {
    "scrolled": false
   },
   "outputs": [],
   "source": [
    "fname = \"correct_%i_{}.png\".format(model.name)\n",
    "for i in i1[0:10]:\n",
    "    plot_prediction(x_test[i], y_test_onehot[i], y_predict[i], fname=fname % i)"
   ]
  }
 ],
 "metadata": {
  "kernelspec": {
   "display_name": "Python 3 (ipykernel)",
   "language": "python",
   "name": "python3"
  },
  "language_info": {
   "codemirror_mode": {
    "name": "ipython",
    "version": 3
   },
   "file_extension": ".py",
   "mimetype": "text/x-python",
   "name": "python",
   "nbconvert_exporter": "python",
   "pygments_lexer": "ipython3",
   "version": "3.8.10"
  }
 },
 "nbformat": 4,
 "nbformat_minor": 5
}
